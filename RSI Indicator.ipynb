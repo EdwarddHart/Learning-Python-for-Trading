{
 "cells": [
  {
   "cell_type": "markdown",
   "id": "af4ff626-7e4b-4881-966e-5054092be14d",
   "metadata": {},
   "source": [
    "# Housekeeping"
   ]
  },
  {
   "cell_type": "code",
   "execution_count": 6,
   "id": "56e5dd7d-677e-4303-a624-d62d4f3cc952",
   "metadata": {},
   "outputs": [],
   "source": [
    "import yfinance as yf\n",
    "import pandas as pd\n",
    "import numpy as np\n",
    "import matplotlib.pyplot as plt"
   ]
  },
  {
   "cell_type": "markdown",
   "id": "6cd851e8-1baa-4027-8b0e-615b00e0b6fd",
   "metadata": {},
   "source": [
    "# Data Gathering and Defining RSI"
   ]
  },
  {
   "cell_type": "code",
   "execution_count": 39,
   "id": "25b42d6a-d8c1-481e-b2d2-7504167eac00",
   "metadata": {},
   "outputs": [],
   "source": [
    "TICKER = 'SPY'\n",
    "RSI_LENGTH = 14\n",
    "OVERBOUGHT = 70\n",
    "OVERSOLD = 30\n",
    "LOOKBACK = 158\n",
    "\n",
    "def get_data(ticker=TICKER):\n",
    "    df = yf.download(ticker, period='max')\n",
    "    df.columns = df.columns.get_level_values(0)\n",
    "    \n",
    "    return df.iloc[-LOOKBACK:, :]\n",
    "\n",
    "def add_RSI(df, length=RSI_LENGTH):\n",
    "    price_change = df['Close'].diff()\n",
    "    \n",
    "    # define gains/losses\n",
    "    gain = price_change.where(price_change > 0, 0)\n",
    "    loss = -price_change.where(price_change < 0, 0)\n",
    "\n",
    "    # average gain vs loss\n",
    "    avg_gain = gain.rolling(window=length).mean()\n",
    "    avg_loss = loss.rolling(window=length).mean()\n",
    "\n",
    "    # calculate rsi\n",
    "    rs = avg_gain / avg_loss\n",
    "    rsi = 100 - (100 / (1 + rs))\n",
    "    df['RSI'] = rsi\n",
    "\n",
    "\n",
    "    plt.plot(df.index, df['RSI'])\n",
    "    plt.axhline(OVERBOUGHT, color='red', linestyle='--')\n",
    "    plt.axhline(OVERSOLD, color='green', linestyle='--')\n",
    "    plt.xlabel('Date')\n",
    "    plt.ylabel('RSI')\n",
    "    plt.title('Relative Strength Index (RSI)')\n",
    "    plt.grid(True)\n",
    "    plt.gcf().autofmt_xdate()\n",
    "    plt.tight_layout()\n",
    "    plt.show()\n",
    "\n",
    "    return df.dropna()"
   ]
  },
  {
   "cell_type": "markdown",
   "id": "684db30b-e7b8-45ea-99a9-1567b66eabc7",
   "metadata": {},
   "source": [
    "# Building and Testing the Strategy"
   ]
  },
  {
   "cell_type": "code",
   "execution_count": 41,
   "id": "72e6e877-602e-492f-abd2-e7bd86f89ad7",
   "metadata": {},
   "outputs": [],
   "source": [
    "def add_strategy(df, overbought = OVERBOUGHT, oversold = OVERSOLD):\n",
    "    df['Strategy'] = 0\n",
    "    \n",
    "    #Where the RSI is not overbought, it is going to be -1 or 0, depending on if it is oversold or not\n",
    "    df['Strategy'] = np.where(df['RSI'] > overbought, 1, \n",
    "                              np.where(df['RSI'] > oversold,-1,0))\n",
    "    df['Strategy'].shift(1)\n",
    "    return df\n",
    "\n",
    "def test_strategy(df):\n",
    "    df['Asset_Returns'] = (1 + df['Close'].pct_change()).cumprod() - 1\n",
    "    df['Strategy_Returns'] = (1 + df['Close'].pct_change() * df['Strategy']).cumprod() -1\n",
    "\n",
    "    plt.figure()\n",
    "    plt.plot(df.index, df['Asset_Returns'], label=f'{TICKER} Buy & Hold')\n",
    "    plt.plot(df.index, df['Strategy_Returns'], label='RSI Strategy')\n",
    "    plt.legend()\n",
    "    plt.title(f'RSI Strategy vs {TICKER}')\n",
    "    plt.grid(True)\n",
    "    plt.gcf().autofmt_xdate()\n",
    "    plt.tight_layout()\n",
    "    plt.show()\n",
    "\n",
    "    return df"
   ]
  },
  {
   "cell_type": "markdown",
   "id": "e751103f-98a4-43c3-a09a-f6da1780c1ed",
   "metadata": {},
   "source": [
    "# Summarising Returns and Executing Code"
   ]
  },
  {
   "cell_type": "code",
   "execution_count": 37,
   "id": "df7d92c7-3a23-4218-a304-ae7142d525af",
   "metadata": {
    "editable": true,
    "slideshow": {
     "slide_type": ""
    },
    "tags": []
   },
   "outputs": [],
   "source": [
    "def return_summary(df, TICKER, LOOKBACK):\n",
    "    asset_return = df['Asset_Returns'].iloc[-1] * 100\n",
    "    strategy_return = df['Strategy_Returns'].iloc[-1] * 100\n",
    "    print(f\"{TICKER} Buy & Hold Return: {asset_return:.2f}%\")\n",
    "    print(f\"{LOOKBACK}-Day RSI Strategy Return: {strategy_return:.2f}%\")\n",
    "    \n",
    "\n",
    "def main():\n",
    "    df = get_data()\n",
    "    df = add_RSI(df)\n",
    "    df = add_strategy(df)\n",
    "    df = test_strategy(df)\n",
    "    return_summary(df, TICKER, LOOKBACK)\n",
    "    return df\n",
    "\n",
    "main()"
   ]
  },
  {
   "cell_type": "code",
   "execution_count": null,
   "id": "b06d37c3-ea10-400a-9511-7582457c0ec0",
   "metadata": {},
   "outputs": [],
   "source": []
  }
 ],
 "metadata": {
  "kernelspec": {
   "display_name": "Python 3 (ipykernel)",
   "language": "python",
   "name": "python3"
  },
  "language_info": {
   "codemirror_mode": {
    "name": "ipython",
    "version": 3
   },
   "file_extension": ".py",
   "mimetype": "text/x-python",
   "name": "python",
   "nbconvert_exporter": "python",
   "pygments_lexer": "ipython3",
   "version": "3.12.7"
  }
 },
 "nbformat": 4,
 "nbformat_minor": 5
}
